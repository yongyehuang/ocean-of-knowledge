{
 "cells": [
  {
   "cell_type": "markdown",
   "metadata": {},
   "source": [
    "## XGBOOST + LR (XGBOOST grid search)\n",
    "\n",
    "XGBOOST + LR 是 CTR 常用的一种方式。\n",
    "\n",
    "在 xgboost 直接调用 sklearn 的 grid search 函数时，没有办法使用 early stop。**使用 early stop 很有帮助**，一方面能够避免过拟合，另一方面能够节省不少时间，所以可以直接写个函数替代 grid search。下面代码中实现是逐个参数搜寻，逐个找到最优参数，实际上没有 grid search, 但是效果一般不会太差，而且省下很多时间。\n",
    "\n",
    "- 1.分开数值特征与类别特征\n",
    "- 2.自定义 xgb_grid_search 函数\n",
    "- 3.利用最优的 xgb 模型把数值特征转为类别特征\n",
    "- 4.将新特征和原始的类别特征一块训练 LR 模型进行最后的预测"
   ]
  },
  {
   "cell_type": "code",
   "execution_count": 1,
   "metadata": {},
   "outputs": [],
   "source": [
    "# -*- coding:utf-8 -*-\n",
    "from __future__ import print_function\n",
    "from __future__ import division\n",
    "\n",
    "import numpy as np\n",
    "import pandas as pd\n",
    "import matplotlib.pyplot as plt \n",
    "from sklearn.model_selection import GridSearchCV \n",
    "\n",
    "import xgboost as xgb\n",
    "from xgboost.sklearn import XGBClassifier\n",
    "from sklearn.ensemble import GradientBoostingClassifier\n",
    "from sklearn.linear_model import LogisticRegression\n",
    "\n",
    "from sklearn.model_selection import train_test_split, cross_val_score\n",
    "from sklearn.datasets import load_svmlight_file\n",
    "from sklearn.preprocessing import OneHotEncoder\n",
    "import sys \n",
    "sys.path.append('../..')\n",
    "import time\n",
    "import my_utils"
   ]
  },
  {
   "cell_type": "markdown",
   "metadata": {},
   "source": [
    "## 1.导入数据"
   ]
  },
  {
   "cell_type": "code",
   "execution_count": 2,
   "metadata": {
    "scrolled": true
   },
   "outputs": [
    {
     "name": "stdout",
     "output_type": "stream",
     "text": [
      "features.shape=(73600, 18)\n",
      "labels.shape=(73600,)\n"
     ]
    }
   ],
   "source": [
    "# 特征名\n",
    "column_names = ['0', '1', '2', '3', '4',\n",
    "                '5', '6', '7','8', '9', \n",
    "                '10', '11', '12', '13',\n",
    "                '14', '15', '16', '17', \n",
    "               ]\n",
    "\n",
    "data = load_svmlight_file('../../raw_data/20171222_044846')\n",
    "features = data[0].toarray()\n",
    "labels = data[1]\n",
    "print('features.shape=%s' % str(features.shape))\n",
    "print('labels.shape=%s' % str(labels.shape))"
   ]
  },
  {
   "cell_type": "markdown",
   "metadata": {},
   "source": [
    "#### 分开类别特征和数值特征"
   ]
  },
  {
   "cell_type": "code",
   "execution_count": 3,
   "metadata": {
    "scrolled": true
   },
   "outputs": [
    {
     "name": "stdout",
     "output_type": "stream",
     "text": [
      "features_no_id.shape=(73600, 13)\n",
      "features_is_id.shape=(73600, 21)\n"
     ]
    }
   ],
   "source": [
    "df_data = pd.DataFrame(features, columns=column_names)\n",
    "# 类别特征\n",
    "col_no_id = ['0','1', '2', '3', \n",
    "             '4', '5', '6', '7', \n",
    "            '8', '9', '10', '11', '12']\n",
    "col_is_id = list(set.difference(set(column_names), set(col_no_id)))\n",
    "\n",
    "features_no_id = df_data.loc[:, col_no_id].values\n",
    "features_is_id = list()\n",
    "for col in col_is_id:\n",
    "    features_is_id.append(pd.get_dummies(df_data[col].values).values)\n",
    "features_is_id = np.hstack(features_is_id)\n",
    "print('features_no_id.shape=%s' % str(features_no_id.shape))\n",
    "print('features_is_id.shape=%s' % str(features_is_id.shape))\n",
    "\n",
    "features = np.hstack([features_no_id, features_is_id])\n",
    "n_no_id = len(col_no_id)\n",
    "\n",
    "X_train, X_test, y_train, y_test = train_test_split(features, labels, test_size=0.2, random_state=3)\n",
    "\n",
    "# 取数值型特征构建训练集\n",
    "dtrain = xgb.DMatrix(X_train[:, :n_no_id], y_train, feature_names=col_no_id)\n",
    "dtest = xgb.DMatrix(X_test[:, :n_no_id], y_test, feature_names=col_no_id)"
   ]
  },
  {
   "cell_type": "markdown",
   "metadata": {},
   "source": [
    "##  2. 自定义xgboost 参数搜索函数"
   ]
  },
  {
   "cell_type": "code",
   "execution_count": 4,
   "metadata": {
    "collapsed": true
   },
   "outputs": [],
   "source": [
    "def model_fit(params, dtrain, max_round=300, cv_folds=5, n_stop_round=50):\n",
    "    \"\"\"对一组参数进行交叉验证，并返回最优迭代次数和最优的结果。\n",
    "    Args:\n",
    "        params: dict, xgb 模型参数。\n",
    "        见 xgb_grid_search_cv 函数\n",
    "        \n",
    "    Returns: \n",
    "        n_round: 最优迭代次数\n",
    "        mean_auc: 最优的结果\n",
    "    \"\"\"\n",
    "    cv_result = xgb.cv(params, dtrain, max_round, nfold=cv_folds,\n",
    "        metrics='auc', early_stopping_rounds=n_stop_round, show_stdv=False)\n",
    "    n_round = cv_result.shape[0]  # 最优模型，最优迭代次数\n",
    "    mean_auc = cv_result['test-auc-mean'].values[-1]  # 最好的  AUC\n",
    "    return n_round, mean_auc\n",
    "\n",
    "\n",
    "def xgb_grid_search_cv(params, key, search_params, dtrain, max_round=300, cv_folds=5, \n",
    "                       n_stop_round=50, return_best_model=True, verbose=True):\n",
    "    \"\"\"自定义 grid_search_cv for xgboost 函数。\n",
    "    Args: \n",
    "        params: dict, xgb 模型参数。\n",
    "        key: 待搜寻的参数。\n",
    "        search_params：list, 待搜寻的参数list。\n",
    "        dtrain： 训练数据\n",
    "        max_round: 最多迭代次数\n",
    "        cv_folds: 交叉验证的折数\n",
    "        early_stopping_rounds: 迭代多少次没有提高则停止。\n",
    "        return_best_model: if True, 在整个训练集上使用最优的参数训练模型。\n",
    "        verbose：if True, 打印训练过程。\n",
    "        \n",
    "    Returns:\n",
    "        cv_results: dict，所有参数组交叉验证的结果。\n",
    "            - mean_aucs: 每组参数对应的结果。\n",
    "            - n_rounds: 每组参数最优迭代轮数。\n",
    "            - list_params: 搜寻的每一组参数。\n",
    "            - best_mean_auc: 最优的结果。\n",
    "            - best_round: 最优迭代轮数。\n",
    "            - best_params: 最优的一组参数。\n",
    "        best_model: XGBoostClassifer() \n",
    "    \"\"\"  \n",
    "    import time\n",
    "    mean_aucs = list()\n",
    "    n_rounds = list()\n",
    "    list_params = list()\n",
    "    print('Searching parameters: %s %s' % (key, str(values)))\n",
    "    tic = time.time()\n",
    "    for search_param in search_params:\n",
    "        params[key] = search_param\n",
    "        list_params.append(params.copy())\n",
    "        n_round, mean_auc = model_fit(params, dtrain, max_round, cv_folds, n_stop_round)\n",
    "        if verbose:\n",
    "            print('%s=%s: n_round=%d, mean_auc=%g. Time cost %gs' % (key, str(search_param), n_round, mean_auc, time.time() - tic))\n",
    "        mean_aucs.append(mean_auc)\n",
    "        n_rounds.append(n_round)\n",
    "    best_mean_auc = max(mean_aucs)\n",
    "    best_index = mean_aucs.index(best_mean_auc)  # 最优的一组\n",
    "    best_round = n_rounds[best_index]\n",
    "    best_params = list_params[best_index]\n",
    "    cv_result = {'mean_aucs': mean_aucs, 'n_rounds': n_rounds, 'list_params': list_params, \n",
    "                'best_mean_auc': best_mean_auc, 'best_round': best_round, 'best_params': best_params}\n",
    "    if return_best_model:       \n",
    "        best_model = xgb.train(best_params, dtrain, num_boost_round=best_round)\n",
    "    else:\n",
    "        best_model = None\n",
    "    if verbose:\n",
    "        print('best_mean_auc = %g' % best_mean_auc)\n",
    "        print('best_round = %d' % best_round)\n",
    "        print('best_params = %s' % str(best_params))\n",
    "    return cv_result, best_model"
   ]
  },
  {
   "cell_type": "code",
   "execution_count": 5,
   "metadata": {
    "scrolled": true
   },
   "outputs": [
    {
     "name": "stdout",
     "output_type": "stream",
     "text": [
      "Searching parameters: learning_rate [0.05, 0.1]\n",
      "learning_rate=0.05: n_round=52, mean_auc=0.534587. Time cost 78.1885s\n",
      "learning_rate=0.1: n_round=43, mean_auc=0.539724. Time cost 161.781s\n",
      "best_mean_auc = 0.539724\n",
      "best_round = 43\n",
      "best_params = {'colsample_bytree': 0.8, 'silent': 1, 'eval_metric': 'auc', 'eta': 0.1, 'learning_rate': 0.1, 'njob': 8, 'min_child_weight': 1, 'subsample': 0.8, 'seed': 0, 'objective': 'binary:logistic', 'max_depth': 5, 'gamma': 0.0, 'booster': 'gbtree'}\n",
      "learning_rate: [0.05, 0.1]\n",
      "n_round = [52, 43]\n",
      "mean_aucs = [0.53458660000000002, 0.53972360000000008]\n"
     ]
    }
   ],
   "source": [
    "params = {'booster': 'gbtree',\n",
    "          'objective': 'binary:logistic',\n",
    "          'learning_rate': 0.1,\n",
    "          'subsample': 0.8,\n",
    "          'colsample_bytree': 0.8,\n",
    "          'eta': 0.1,\n",
    "          'max_depth': 5,\n",
    "          'min_child_weight': 1,\n",
    "          'gamma': 0.0,\n",
    "          'silent': 1,\n",
    "          'seed': 0,\n",
    "          'eval_metric': 'auc',\n",
    "          'njob':8\n",
    "          }\n",
    "key = 'learning_rate'\n",
    "values = [0.05, 0.1]\n",
    "cv_result, best_model = xgb_grid_search_cv(params, key, values, dtrain)\n",
    "print('%s: %s' % (key, str(values)))\n",
    "print('n_round = %s' % str(cv_result['n_rounds']))\n",
    "print('mean_aucs = %s' % str(cv_result['mean_aucs']))"
   ]
  },
  {
   "cell_type": "markdown",
   "metadata": {},
   "source": [
    "在上一个参数最优的基础上，寻找其他参数的最优值.\n",
    "\n",
    "这样并没有完全进行 grid search，但是一般来说，结果不会太差"
   ]
  },
  {
   "cell_type": "code",
   "execution_count": 6,
   "metadata": {},
   "outputs": [
    {
     "name": "stdout",
     "output_type": "stream",
     "text": [
      "Searching parameters: max_depth [3, 4, 5]\n",
      "max_depth=3: n_round=42, mean_auc=0.537475. Time cost 68.5076s\n",
      "max_depth=4: n_round=43, mean_auc=0.537731. Time cost 159.202s\n",
      "max_depth=5: n_round=43, mean_auc=0.539724. Time cost 242.507s\n",
      "best_mean_auc = 0.539724\n",
      "best_round = 43\n",
      "best_params = {'colsample_bytree': 0.8, 'silent': 1, 'eval_metric': 'auc', 'learning_rate': 0.1, 'njob': 8, 'min_child_weight': 1, 'subsample': 0.8, 'eta': 0.1, 'objective': 'binary:logistic', 'seed': 0, 'max_depth': 5, 'gamma': 0.0, 'booster': 'gbtree'}\n",
      "max_depth: [3, 4, 5]\n",
      "n_round = [42, 43, 43]\n",
      "mean_aucs = [0.53747460000000002, 0.53773139999999997, 0.53972360000000008]\n"
     ]
    }
   ],
   "source": [
    "params = cv_result['best_params']\n",
    "key = 'max_depth'\n",
    "values = [3, 4, 5]\n",
    "cv_result, best_model = xgb_grid_search_cv(params, key, values, dtrain)\n",
    "print('%s: %s' % (key, str(values)))\n",
    "print('n_round = %s' % str(cv_result['n_rounds']))\n",
    "print('mean_aucs = %s' % str(cv_result['mean_aucs']))"
   ]
  },
  {
   "cell_type": "code",
   "execution_count": 7,
   "metadata": {},
   "outputs": [
    {
     "name": "stdout",
     "output_type": "stream",
     "text": [
      "(14720, 34) (14720,)\n",
      "0.0124127\n",
      "(14720, 34) (14720, 43)\n",
      "[ 0  0  0  0  0  0  0  0  0  0  0  1  1  3  3  3  3  7  7  3  3  8  1  7  3\n",
      "  1 19  7 15 23 31 37 37 27 19 15 29 25 25 23 31 28 25]\n"
     ]
    }
   ],
   "source": [
    "# 使用 xgb_model.predict() 返回每个样本分为 正类 1 的概率\n",
    "y_pred_prob = best_model.predict(dtest)\n",
    "print(X_test.shape, y_pred_prob.shape)\n",
    "print(y_pred_prob[0])\n",
    "# 设置 pred_leaf=True, 返回每个样本在每棵树上的叶子的 ID\n",
    "y_pred_prob = best_model.predict(dtest, pred_leaf=True)\n",
    "print(X_test.shape, y_pred_prob.shape)\n",
    "print(y_pred_prob[0])"
   ]
  },
  {
   "cell_type": "markdown",
   "metadata": {},
   "source": [
    "## 3. 将所有的数值特征转为 one-hot 类型，和原始的类别型特征进行拼接"
   ]
  },
  {
   "cell_type": "code",
   "execution_count": 8,
   "metadata": {
    "collapsed": true
   },
   "outputs": [],
   "source": [
    "# 编码成 one-hot 类型的数据\n",
    "grd_enc = OneHotEncoder()\n",
    "# LR 分类器\n",
    "grd_lm = LogisticRegression()\n",
    "# 每棵树的叶子编码\n",
    "dall = xgb.DMatrix(features[:, :n_no_id], feature_names=col_no_id)\n",
    "all_leafs = best_model.predict(dall, pred_leaf=True)\n",
    "train_leafs = best_model.predict(dtrain, pred_leaf=True)\n",
    "test_leafs = best_model.predict(dtest, pred_leaf=True)\n",
    "\n",
    "# 使用所有特征确定编码规则\n",
    "grd_enc.fit(all_leafs)\n",
    "# one-hot 编码\n",
    "oh_train = grd_enc.transform(train_leafs).toarray()\n",
    "oh_test = grd_enc.transform(test_leafs).toarray()"
   ]
  },
  {
   "cell_type": "code",
   "execution_count": 9,
   "metadata": {},
   "outputs": [
    {
     "name": "stdout",
     "output_type": "stream",
     "text": [
      "X_train_oh.shape=(58880, 492)\n",
      "X_test_oh.shape=(14720, 492)\n"
     ]
    }
   ],
   "source": [
    "# 所有特征\n",
    "X_train_oh = np.hstack([oh_train, X_train[:, n_no_id:]])\n",
    "X_test_oh = np.hstack([oh_test, X_test[:, n_no_id:]])\n",
    "print('X_train_oh.shape=%s' % str(X_train_oh.shape))\n",
    "print('X_test_oh.shape=%s' % str(X_test_oh.shape))"
   ]
  },
  {
   "cell_type": "markdown",
   "metadata": {},
   "source": [
    "### 使用 LR 进行训练"
   ]
  },
  {
   "cell_type": "code",
   "execution_count": 10,
   "metadata": {},
   "outputs": [
    {
     "name": "stdout",
     "output_type": "stream",
     "text": [
      "[ 0.001       0.00644444  0.01188889  0.01733333  0.02277778  0.02822222\n",
      "  0.03366667  0.03911111  0.04455556  0.05      ]\n",
      "C=0.001, mean_auc = 0.553148. Time passed 2.44328s\n",
      "C=0.00644444, mean_auc = 0.602253. Time passed 5.5303s\n",
      "C=0.0118889, mean_auc = 0.612432. Time passed 9.12239s\n",
      "C=0.0173333, mean_auc = 0.617869. Time passed 12.936s\n",
      "C=0.0227778, mean_auc = 0.62137. Time passed 16.7762s\n",
      "C=0.0282222, mean_auc = 0.62381. Time passed 20.8325s\n",
      "C=0.0336667, mean_auc = 0.626271. Time passed 24.9229s\n",
      "C=0.0391111, mean_auc = 0.627935. Time passed 29.262s\n",
      "C=0.0445556, mean_auc = 0.629926. Time passed 33.1962s\n",
      "C=0.05, mean_auc = 0.631066. Time passed 36.6805s\n",
      "mean_aucs， [0.55314761462526785, 0.60225338755439206, 0.61243187424031753, 0.61786885529608182, 0.62137038918338783, 0.62381028779844427, 0.62627065614627997, 0.62793456864639041, 0.62992609163644286, 0.63106630566612487]\n",
      "参数， {'colsample_bytree': 0.8, 'silent': 1, 'eval_metric': 'auc', 'eta': 0.1, 'learning_rate': 0.1, 'njob': 8, 'min_child_weight': 1, 'subsample': 0.8, 'seed': 0, 'objective': 'binary:logistic', 'max_depth': 5, 'gamma': 0.0, 'booster': 'gbtree'}\n",
      "最好的参数: 0.05\n",
      "best_auc = 0.631066\n"
     ]
    },
    {
     "data": {
      "text/plain": [
       "LogisticRegression(C=0.050000000000000003, class_weight=None, dual=False,\n",
       "          fit_intercept=True, intercept_scaling=1, max_iter=100,\n",
       "          multi_class='ovr', n_jobs=1, penalty='l2', random_state=None,\n",
       "          solver='liblinear', tol=0.0001, verbose=0, warm_start=False)"
      ]
     },
     "execution_count": 10,
     "metadata": {},
     "output_type": "execute_result"
    }
   ],
   "source": [
    "# 使用 LR 进行训练\n",
    "C_params = np.linspace(0.001, 0.05, 10)  # 线性划分参数，0.001--5 ，划分20等分  # 0.015  最好\n",
    "\n",
    "LR_aucs = []  # 存储cv值\n",
    "print(C_params)\n",
    "tic = time.time()\n",
    "for C_param in C_params:\n",
    "    model = LogisticRegression(C = C_param, penalty='l2', max_iter=300)\n",
    "    scores = cross_val_score(model, X_train_oh, y_train, cv=5, scoring='roc_auc')\n",
    "    LR_aucs.append(scores.mean())\n",
    "    print('C=%g, mean_auc = %g. Time passed %gs' % (C_param, scores.mean(), time.time() - tic))\n",
    "print(\"mean_aucs，\", LR_aucs)\n",
    "print(\"参数，\", params)\n",
    "best_index = LR_aucs.index(max(LR_aucs))\n",
    "print(\"最好的参数:\", C_params[best_index])\n",
    "print(\"best_auc = %g\" %  max(LR_aucs))\n",
    "\n",
    "# 使用最好的参数训练最后的模型\n",
    "LR = LogisticRegression(C=C_params[best_index], penalty='l2', max_iter=100)\n",
    "LR.fit(X_train_oh, y_train)"
   ]
  },
  {
   "cell_type": "markdown",
   "metadata": {},
   "source": [
    "###  最后进行预测"
   ]
  },
  {
   "cell_type": "code",
   "execution_count": 11,
   "metadata": {},
   "outputs": [
    {
     "name": "stdout",
     "output_type": "stream",
     "text": [
      "[ 0.00334971  0.00522246  0.00536675  0.00698756  0.00590602  0.0045314\n",
      "  0.00749942  0.00565166  0.0058966   0.00505731]\n"
     ]
    },
    {
     "data": {
      "image/png": "[encoded data removed]",
      "text/plain": [
       "<matplotlib.figure.Figure at 0x7f4b5dfbcb10>"
      ]
     },
     "metadata": {},
     "output_type": "display_data"
    }
   ],
   "source": [
    "# 预测\n",
    "y_pred_prob = LR.predict_proba(X_test_oh)[:, 1]\n",
    "print(y_pred_prob[:10])\n",
    "# 绘制 ROC 曲线，计算 AUC\n",
    "roc_auc, fpr, tpr, thresholds = my_utils.get_auc(y_test, y_pred_prob, plot_ROC=True)"
   ]
  },
  {
   "cell_type": "markdown",
   "metadata": {
    "collapsed": true
   },
   "source": [
    "利用 GBDT+LR 融合的方案有很多好处，利用 GDBT 主要是**发掘有区分度的 特征和特征组合**：\n",
    "- LR 模型无法实现特征组合，但是模型中特征组合很关键，依靠人工经验非常耗时而且不一定能有好的效果。利用 GBDT 可以自动发现有效的特征、特征组合。GBDT 每次迭代都是在减少残差的梯度方向上面新建一棵决策树，GBDT 的每个叶子结点对应一个路径，也就是一种组合方式。\n",
    "- 由于树的每条路径都是最小化均方误差等方法算出来的，得到的路径（特征组合）具有区分度不亚于人工经验\n",
    "\n",
    "参考：\n",
    "- [【总结】CTR预估中GBDT与LR融合方案](http://blog.csdn.net/dengxing1234/article/details/73739481)"
   ]
  }
 ],
 "metadata": {
  "kernelspec": {
   "display_name": "Python 2",
   "language": "python",
   "name": "python2"
  },
  "language_info": {
   "codemirror_mode": {
    "name": "ipython",
    "version": 2
   },
   "file_extension": ".py",
   "mimetype": "text/x-python",
   "name": "python",
   "nbconvert_exporter": "python",
   "pygments_lexer": "ipython2",
   "version": "2.7.14"
  }
 },
 "nbformat": 4,
 "nbformat_minor": 2
}
